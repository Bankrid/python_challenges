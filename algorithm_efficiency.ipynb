{
 "cells": [
  {
   "cell_type": "code",
   "execution_count": 1,
   "id": "e91d0e12",
   "metadata": {},
   "outputs": [],
   "source": [
    "import time\n",
    "import numpy as np"
   ]
  },
  {
   "cell_type": "code",
   "execution_count": 2,
   "id": "f567709d",
   "metadata": {},
   "outputs": [
    {
     "name": "stdout",
     "output_type": "stream",
     "text": [
      "1000000\n",
      "running time: 0.1556692123413086\n"
     ]
    }
   ],
   "source": [
    "ls = list(np.arange(0, 1000002, 1))\n",
    "\n",
    "start = time.time()\n",
    "target = 1000000\n",
    "for number in ls:\n",
    "    if number == target:\n",
    "        print(ls.index(target))\n",
    "print(f'running time: {time.time() - start}') "
   ]
  },
  {
   "cell_type": "code",
   "execution_count": 3,
   "id": "7bd759bc",
   "metadata": {},
   "outputs": [
    {
     "name": "stdout",
     "output_type": "stream",
     "text": [
      "1000000\n",
      "running time: 0.03331804275512695\n"
     ]
    }
   ],
   "source": [
    "ls = list(np.arange(0, 1000002, 1))\n",
    "beg = 0\n",
    "end = len(ls)\n",
    "#mid = (beg+end)//2\n",
    "\n",
    "start = time.time()\n",
    "target = 1000000\n",
    "\n",
    "while beg < end:\n",
    "    mid = (beg+end)//2\n",
    "    \n",
    "    if ls[mid] == target:\n",
    "        print(ls.index(target))\n",
    "        break\n",
    "    elif ls[mid] < target:\n",
    "        beg = mid\n",
    "    else:\n",
    "        end = mid\n",
    "\n",
    "print(f'running time: {time.time() - start}') "
   ]
  },
  {
   "cell_type": "code",
   "execution_count": null,
   "id": "76a23ccc",
   "metadata": {},
   "outputs": [],
   "source": [
    "def find_sqr(lt):\n",
    "    \n",
    "              "
   ]
  }
 ],
 "metadata": {
  "kernelspec": {
   "display_name": "Python 3 (ipykernel)",
   "language": "python",
   "name": "python3"
  },
  "language_info": {
   "codemirror_mode": {
    "name": "ipython",
    "version": 3
   },
   "file_extension": ".py",
   "mimetype": "text/x-python",
   "name": "python",
   "nbconvert_exporter": "python",
   "pygments_lexer": "ipython3",
   "version": "3.10.6"
  }
 },
 "nbformat": 4,
 "nbformat_minor": 5
}
