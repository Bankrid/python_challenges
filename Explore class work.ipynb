{
 "cells": [
  {
   "cell_type": "code",
   "execution_count": 40,
   "id": "e3425451",
   "metadata": {},
   "outputs": [],
   "source": [
    "def new_fun(ls):\n",
    "    neg_num = []\n",
    "    for i in range(len(ls)):\n",
    "        \n",
    "        if ls[i] < 0:\n",
    "            print('something is negative')\n",
    "            neg_num.append(ls[i])\n",
    "    \n",
    "    \n",
    "        elif ls[4] == ls[3]**2:\n",
    "            print('The 5th element is the square of the 4th element')\n",
    "            return 'success'\n",
    "        else:\n",
    "            pass\n",
    "    return neg_num\n"
   ]
  },
  {
   "cell_type": "code",
   "execution_count": 47,
   "id": "a270d124",
   "metadata": {},
   "outputs": [
    {
     "name": "stdout",
     "output_type": "stream",
     "text": [
      "The 5th element is the square of the 4th element\n"
     ]
    },
    {
     "data": {
      "text/plain": [
       "'success'"
      ]
     },
     "execution_count": 47,
     "metadata": {},
     "output_type": "execute_result"
    }
   ],
   "source": [
    "new_fun([3,7,4,5,25,36,49,80])"
   ]
  },
  {
   "cell_type": "code",
   "execution_count": 49,
   "id": "0e2e7aef",
   "metadata": {},
   "outputs": [
    {
     "name": "stdout",
     "output_type": "stream",
     "text": [
      "something is negative\n",
      "something is negative\n"
     ]
    },
    {
     "data": {
      "text/plain": [
       "[-4, -36]"
      ]
     },
     "execution_count": 49,
     "metadata": {},
     "output_type": "execute_result"
    }
   ],
   "source": [
    "new_fun([3, 7, -4,5,26,-36, 49,80])"
   ]
  },
  {
   "cell_type": "code",
   "execution_count": null,
   "id": "36e2d16c",
   "metadata": {},
   "outputs": [],
   "source": []
  }
 ],
 "metadata": {
  "kernelspec": {
   "display_name": "Python 3 (ipykernel)",
   "language": "python",
   "name": "python3"
  },
  "language_info": {
   "codemirror_mode": {
    "name": "ipython",
    "version": 3
   },
   "file_extension": ".py",
   "mimetype": "text/x-python",
   "name": "python",
   "nbconvert_exporter": "python",
   "pygments_lexer": "ipython3",
   "version": "3.10.6"
  }
 },
 "nbformat": 4,
 "nbformat_minor": 5
}
